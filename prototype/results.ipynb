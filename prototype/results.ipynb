{
 "metadata": {
  "language_info": {
   "codemirror_mode": {
    "name": "ipython",
    "version": 3
   },
   "file_extension": ".py",
   "mimetype": "text/x-python",
   "name": "python",
   "nbconvert_exporter": "python",
   "pygments_lexer": "ipython3",
   "version": "3.8.5"
  },
  "orig_nbformat": 4,
  "kernelspec": {
   "name": "python3",
   "display_name": "Python 3.8.5 64-bit"
  },
  "interpreter": {
   "hash": "31f2aee4e71d21fbe5cf8b01ff0e069b9275f58929596ceb00d14d90e3e16cd6"
  }
 },
 "nbformat": 4,
 "nbformat_minor": 2,
 "cells": [
  {
   "source": [
    "# Calculate Rank, Percentile, Subject-wise Percentile for each student in a Test\n",
    "\n",
    "Prototype to compute rank, percentile, subject-wise rank and percentile for each students."
   ],
   "cell_type": "markdown",
   "metadata": {}
  },
  {
   "source": [
    "## Installing dependencies"
   ],
   "cell_type": "markdown",
   "metadata": {}
  },
  {
   "cell_type": "code",
   "execution_count": 1,
   "metadata": {},
   "outputs": [
    {
     "output_type": "stream",
     "name": "stdout",
     "text": [
      "Defaulting to user installation because normal site-packages is not writeable\n",
      "Requirement already satisfied: pandas in /home/aadhivijay/.local/lib/python3.8/site-packages (1.2.4)\n",
      "Requirement already satisfied: pytz>=2017.3 in /home/aadhivijay/.local/lib/python3.8/site-packages (from pandas) (2021.1)\n",
      "Requirement already satisfied: python-dateutil>=2.7.3 in /home/aadhivijay/.local/lib/python3.8/site-packages (from pandas) (2.8.1)\n",
      "Requirement already satisfied: numpy>=1.16.5 in /home/aadhivijay/.local/lib/python3.8/site-packages (from pandas) (1.20.2)\n",
      "Requirement already satisfied: six>=1.5 in /usr/lib/python3/dist-packages (from python-dateutil>=2.7.3->pandas) (1.14.0)\n"
     ]
    }
   ],
   "source": [
    "!pip install pandas"
   ]
  },
  {
   "source": [
    "## Importing dependencies"
   ],
   "cell_type": "markdown",
   "metadata": {}
  },
  {
   "cell_type": "code",
   "execution_count": 2,
   "metadata": {},
   "outputs": [],
   "source": [
    "import pandas as pd"
   ]
  },
  {
   "source": [
    "## Read the sample test data from CSV"
   ],
   "cell_type": "markdown",
   "metadata": {}
  },
  {
   "cell_type": "code",
   "execution_count": 3,
   "metadata": {},
   "outputs": [
    {
     "output_type": "execute_result",
     "data": {
      "text/plain": [
       "   id test_id user_id  mark\n",
       "0   1  test-1  user-1    75\n",
       "1   2  test-1  user-5    88\n",
       "2   3  test-1  user-9    78\n",
       "3   4  test-2  user-3    66\n",
       "4   5  test-2  user-7   100\n",
       "5   6  test-3  user-1    35\n",
       "6   7  test-3  user-5   100\n",
       "7   8  test-3  user-9    35\n",
       "8   9  test-4  user-3   100\n",
       "9  10  test-4  user-7    72"
      ],
      "text/html": "<div>\n<style scoped>\n    .dataframe tbody tr th:only-of-type {\n        vertical-align: middle;\n    }\n\n    .dataframe tbody tr th {\n        vertical-align: top;\n    }\n\n    .dataframe thead th {\n        text-align: right;\n    }\n</style>\n<table border=\"1\" class=\"dataframe\">\n  <thead>\n    <tr style=\"text-align: right;\">\n      <th></th>\n      <th>id</th>\n      <th>test_id</th>\n      <th>user_id</th>\n      <th>mark</th>\n    </tr>\n  </thead>\n  <tbody>\n    <tr>\n      <th>0</th>\n      <td>1</td>\n      <td>test-1</td>\n      <td>user-1</td>\n      <td>75</td>\n    </tr>\n    <tr>\n      <th>1</th>\n      <td>2</td>\n      <td>test-1</td>\n      <td>user-5</td>\n      <td>88</td>\n    </tr>\n    <tr>\n      <th>2</th>\n      <td>3</td>\n      <td>test-1</td>\n      <td>user-9</td>\n      <td>78</td>\n    </tr>\n    <tr>\n      <th>3</th>\n      <td>4</td>\n      <td>test-2</td>\n      <td>user-3</td>\n      <td>66</td>\n    </tr>\n    <tr>\n      <th>4</th>\n      <td>5</td>\n      <td>test-2</td>\n      <td>user-7</td>\n      <td>100</td>\n    </tr>\n    <tr>\n      <th>5</th>\n      <td>6</td>\n      <td>test-3</td>\n      <td>user-1</td>\n      <td>35</td>\n    </tr>\n    <tr>\n      <th>6</th>\n      <td>7</td>\n      <td>test-3</td>\n      <td>user-5</td>\n      <td>100</td>\n    </tr>\n    <tr>\n      <th>7</th>\n      <td>8</td>\n      <td>test-3</td>\n      <td>user-9</td>\n      <td>35</td>\n    </tr>\n    <tr>\n      <th>8</th>\n      <td>9</td>\n      <td>test-4</td>\n      <td>user-3</td>\n      <td>100</td>\n    </tr>\n    <tr>\n      <th>9</th>\n      <td>10</td>\n      <td>test-4</td>\n      <td>user-7</td>\n      <td>72</td>\n    </tr>\n  </tbody>\n</table>\n</div>"
     },
     "metadata": {},
     "execution_count": 3
    }
   ],
   "source": [
    "df = pd.read_csv('samples/sample-test-data.csv')\n",
    "\n",
    "df.head(10)"
   ]
  },
  {
   "source": [
    "## Computing Rank for each student in the Test by the mark they scored"
   ],
   "cell_type": "markdown",
   "metadata": {}
  },
  {
   "cell_type": "code",
   "execution_count": 4,
   "metadata": {},
   "outputs": [
    {
     "output_type": "execute_result",
     "data": {
      "text/plain": [
       "    id test_id  user_id  mark  rank\n",
       "1    2  test-1   user-5    88   1.0\n",
       "2    3  test-1   user-9    78   2.0\n",
       "0    1  test-1   user-1    75   3.0\n",
       "39  40  test-1   user-8    72   4.0\n",
       "13  14  test-1   user-2    70   5.0\n",
       "14  15  test-1   user-6    66   6.0\n",
       "15  16  test-1  user-10    65   7.0\n",
       "26  27  test-1   user-3    60   8.0\n",
       "38  39  test-1   user-4    55   9.0\n",
       "27  28  test-1   user-7    35  10.0"
      ],
      "text/html": "<div>\n<style scoped>\n    .dataframe tbody tr th:only-of-type {\n        vertical-align: middle;\n    }\n\n    .dataframe tbody tr th {\n        vertical-align: top;\n    }\n\n    .dataframe thead th {\n        text-align: right;\n    }\n</style>\n<table border=\"1\" class=\"dataframe\">\n  <thead>\n    <tr style=\"text-align: right;\">\n      <th></th>\n      <th>id</th>\n      <th>test_id</th>\n      <th>user_id</th>\n      <th>mark</th>\n      <th>rank</th>\n    </tr>\n  </thead>\n  <tbody>\n    <tr>\n      <th>1</th>\n      <td>2</td>\n      <td>test-1</td>\n      <td>user-5</td>\n      <td>88</td>\n      <td>1.0</td>\n    </tr>\n    <tr>\n      <th>2</th>\n      <td>3</td>\n      <td>test-1</td>\n      <td>user-9</td>\n      <td>78</td>\n      <td>2.0</td>\n    </tr>\n    <tr>\n      <th>0</th>\n      <td>1</td>\n      <td>test-1</td>\n      <td>user-1</td>\n      <td>75</td>\n      <td>3.0</td>\n    </tr>\n    <tr>\n      <th>39</th>\n      <td>40</td>\n      <td>test-1</td>\n      <td>user-8</td>\n      <td>72</td>\n      <td>4.0</td>\n    </tr>\n    <tr>\n      <th>13</th>\n      <td>14</td>\n      <td>test-1</td>\n      <td>user-2</td>\n      <td>70</td>\n      <td>5.0</td>\n    </tr>\n    <tr>\n      <th>14</th>\n      <td>15</td>\n      <td>test-1</td>\n      <td>user-6</td>\n      <td>66</td>\n      <td>6.0</td>\n    </tr>\n    <tr>\n      <th>15</th>\n      <td>16</td>\n      <td>test-1</td>\n      <td>user-10</td>\n      <td>65</td>\n      <td>7.0</td>\n    </tr>\n    <tr>\n      <th>26</th>\n      <td>27</td>\n      <td>test-1</td>\n      <td>user-3</td>\n      <td>60</td>\n      <td>8.0</td>\n    </tr>\n    <tr>\n      <th>38</th>\n      <td>39</td>\n      <td>test-1</td>\n      <td>user-4</td>\n      <td>55</td>\n      <td>9.0</td>\n    </tr>\n    <tr>\n      <th>27</th>\n      <td>28</td>\n      <td>test-1</td>\n      <td>user-7</td>\n      <td>35</td>\n      <td>10.0</td>\n    </tr>\n  </tbody>\n</table>\n</div>"
     },
     "metadata": {},
     "execution_count": 4
    }
   ],
   "source": [
    "# Group by test_id and compute rank\n",
    "df['rank'] = df.groupby('test_id', sort=False)['mark'].rank(ascending=0, method='min')\n",
    "# sort the values by test_id & rank\n",
    "df.sort_values(by=['test_id','rank'], inplace=True)\n",
    "\n",
    "df.head(10)"
   ]
  },
  {
   "source": [
    "## Computing Percentile for each student in the Test by the mark they scored"
   ],
   "cell_type": "markdown",
   "metadata": {}
  },
  {
   "cell_type": "code",
   "execution_count": 5,
   "metadata": {},
   "outputs": [
    {
     "output_type": "execute_result",
     "data": {
      "text/plain": [
       "    id test_id  user_id  mark  rank  percentile\n",
       "1    2  test-1   user-5    88   1.0       100.0\n",
       "2    3  test-1   user-9    78   2.0        90.0\n",
       "0    1  test-1   user-1    75   3.0        80.0\n",
       "39  40  test-1   user-8    72   4.0        70.0\n",
       "13  14  test-1   user-2    70   5.0        60.0\n",
       "14  15  test-1   user-6    66   6.0        50.0\n",
       "15  16  test-1  user-10    65   7.0        40.0\n",
       "26  27  test-1   user-3    60   8.0        30.0\n",
       "38  39  test-1   user-4    55   9.0        20.0\n",
       "27  28  test-1   user-7    35  10.0        10.0"
      ],
      "text/html": "<div>\n<style scoped>\n    .dataframe tbody tr th:only-of-type {\n        vertical-align: middle;\n    }\n\n    .dataframe tbody tr th {\n        vertical-align: top;\n    }\n\n    .dataframe thead th {\n        text-align: right;\n    }\n</style>\n<table border=\"1\" class=\"dataframe\">\n  <thead>\n    <tr style=\"text-align: right;\">\n      <th></th>\n      <th>id</th>\n      <th>test_id</th>\n      <th>user_id</th>\n      <th>mark</th>\n      <th>rank</th>\n      <th>percentile</th>\n    </tr>\n  </thead>\n  <tbody>\n    <tr>\n      <th>1</th>\n      <td>2</td>\n      <td>test-1</td>\n      <td>user-5</td>\n      <td>88</td>\n      <td>1.0</td>\n      <td>100.0</td>\n    </tr>\n    <tr>\n      <th>2</th>\n      <td>3</td>\n      <td>test-1</td>\n      <td>user-9</td>\n      <td>78</td>\n      <td>2.0</td>\n      <td>90.0</td>\n    </tr>\n    <tr>\n      <th>0</th>\n      <td>1</td>\n      <td>test-1</td>\n      <td>user-1</td>\n      <td>75</td>\n      <td>3.0</td>\n      <td>80.0</td>\n    </tr>\n    <tr>\n      <th>39</th>\n      <td>40</td>\n      <td>test-1</td>\n      <td>user-8</td>\n      <td>72</td>\n      <td>4.0</td>\n      <td>70.0</td>\n    </tr>\n    <tr>\n      <th>13</th>\n      <td>14</td>\n      <td>test-1</td>\n      <td>user-2</td>\n      <td>70</td>\n      <td>5.0</td>\n      <td>60.0</td>\n    </tr>\n    <tr>\n      <th>14</th>\n      <td>15</td>\n      <td>test-1</td>\n      <td>user-6</td>\n      <td>66</td>\n      <td>6.0</td>\n      <td>50.0</td>\n    </tr>\n    <tr>\n      <th>15</th>\n      <td>16</td>\n      <td>test-1</td>\n      <td>user-10</td>\n      <td>65</td>\n      <td>7.0</td>\n      <td>40.0</td>\n    </tr>\n    <tr>\n      <th>26</th>\n      <td>27</td>\n      <td>test-1</td>\n      <td>user-3</td>\n      <td>60</td>\n      <td>8.0</td>\n      <td>30.0</td>\n    </tr>\n    <tr>\n      <th>38</th>\n      <td>39</td>\n      <td>test-1</td>\n      <td>user-4</td>\n      <td>55</td>\n      <td>9.0</td>\n      <td>20.0</td>\n    </tr>\n    <tr>\n      <th>27</th>\n      <td>28</td>\n      <td>test-1</td>\n      <td>user-7</td>\n      <td>35</td>\n      <td>10.0</td>\n      <td>10.0</td>\n    </tr>\n  </tbody>\n</table>\n</div>"
     },
     "metadata": {},
     "execution_count": 5
    }
   ],
   "source": [
    "# Group by test_id and compute percentile\n",
    "df['percentile'] = df.groupby('test_id', sort=False)['mark'].rank(pct=True) * 100\n",
    "# sort the values by test_id & percentile\n",
    "df.sort_values(by=['test_id','percentile'], ascending=[True, False], inplace=True)\n",
    "\n",
    "df.head(10)"
   ]
  },
  {
   "source": [
    "## Read the sample test subject data from CSV"
   ],
   "cell_type": "markdown",
   "metadata": {}
  },
  {
   "cell_type": "code",
   "execution_count": 6,
   "metadata": {},
   "outputs": [
    {
     "output_type": "execute_result",
     "data": {
      "text/plain": [
       "   id test_id q_id subject_id user_id  mark\n",
       "0   1  test-1  q-1      sub-1  user-1    -3\n",
       "1   2  test-1  q-1      sub-1  user-5    -3\n",
       "2   3  test-1  q-1      sub-1  user-9    -3\n",
       "3   4  test-1  q-2      sub-2  user-3    10\n",
       "4   5  test-1  q-2      sub-2  user-7    10\n",
       "5   6  test-1  q-3      sub-3  user-1    -3\n",
       "6   7  test-1  q-3      sub-3  user-5    -3\n",
       "7   8  test-1  q-3      sub-3  user-9    10\n",
       "8   9  test-1  q-4      sub-4  user-3    10\n",
       "9  10  test-1  q-4      sub-4  user-7    -3"
      ],
      "text/html": "<div>\n<style scoped>\n    .dataframe tbody tr th:only-of-type {\n        vertical-align: middle;\n    }\n\n    .dataframe tbody tr th {\n        vertical-align: top;\n    }\n\n    .dataframe thead th {\n        text-align: right;\n    }\n</style>\n<table border=\"1\" class=\"dataframe\">\n  <thead>\n    <tr style=\"text-align: right;\">\n      <th></th>\n      <th>id</th>\n      <th>test_id</th>\n      <th>q_id</th>\n      <th>subject_id</th>\n      <th>user_id</th>\n      <th>mark</th>\n    </tr>\n  </thead>\n  <tbody>\n    <tr>\n      <th>0</th>\n      <td>1</td>\n      <td>test-1</td>\n      <td>q-1</td>\n      <td>sub-1</td>\n      <td>user-1</td>\n      <td>-3</td>\n    </tr>\n    <tr>\n      <th>1</th>\n      <td>2</td>\n      <td>test-1</td>\n      <td>q-1</td>\n      <td>sub-1</td>\n      <td>user-5</td>\n      <td>-3</td>\n    </tr>\n    <tr>\n      <th>2</th>\n      <td>3</td>\n      <td>test-1</td>\n      <td>q-1</td>\n      <td>sub-1</td>\n      <td>user-9</td>\n      <td>-3</td>\n    </tr>\n    <tr>\n      <th>3</th>\n      <td>4</td>\n      <td>test-1</td>\n      <td>q-2</td>\n      <td>sub-2</td>\n      <td>user-3</td>\n      <td>10</td>\n    </tr>\n    <tr>\n      <th>4</th>\n      <td>5</td>\n      <td>test-1</td>\n      <td>q-2</td>\n      <td>sub-2</td>\n      <td>user-7</td>\n      <td>10</td>\n    </tr>\n    <tr>\n      <th>5</th>\n      <td>6</td>\n      <td>test-1</td>\n      <td>q-3</td>\n      <td>sub-3</td>\n      <td>user-1</td>\n      <td>-3</td>\n    </tr>\n    <tr>\n      <th>6</th>\n      <td>7</td>\n      <td>test-1</td>\n      <td>q-3</td>\n      <td>sub-3</td>\n      <td>user-5</td>\n      <td>-3</td>\n    </tr>\n    <tr>\n      <th>7</th>\n      <td>8</td>\n      <td>test-1</td>\n      <td>q-3</td>\n      <td>sub-3</td>\n      <td>user-9</td>\n      <td>10</td>\n    </tr>\n    <tr>\n      <th>8</th>\n      <td>9</td>\n      <td>test-1</td>\n      <td>q-4</td>\n      <td>sub-4</td>\n      <td>user-3</td>\n      <td>10</td>\n    </tr>\n    <tr>\n      <th>9</th>\n      <td>10</td>\n      <td>test-1</td>\n      <td>q-4</td>\n      <td>sub-4</td>\n      <td>user-7</td>\n      <td>-3</td>\n    </tr>\n  </tbody>\n</table>\n</div>"
     },
     "metadata": {},
     "execution_count": 6
    }
   ],
   "source": [
    "df1 = pd.read_csv('samples/sample-ques-subject-attempt.csv')\n",
    "\n",
    "df1.head(10)"
   ]
  },
  {
   "source": [
    "## Computing Subject-wise Percentile for each student in the Test by the mark they scored"
   ],
   "cell_type": "markdown",
   "metadata": {}
  },
  {
   "cell_type": "code",
   "execution_count": 7,
   "metadata": {},
   "outputs": [
    {
     "output_type": "execute_result",
     "data": {
      "text/plain": [
       "    id test_id q_id subject_id  user_id  mark  percentile\n",
       "14  15  test-1  q-1      sub-1   user-6    10       100.0\n",
       "0    1  test-1  q-1      sub-1   user-1    -3        50.0\n",
       "1    2  test-1  q-1      sub-1   user-5    -3        50.0\n",
       "2    3  test-1  q-1      sub-1   user-9    -3        50.0\n",
       "13  14  test-1  q-1      sub-1   user-2    -3        50.0\n",
       "15  16  test-1  q-1      sub-1  user-10    -3        50.0\n",
       "26  27  test-1  q-1      sub-1   user-3    -3        50.0\n",
       "27  28  test-1  q-1      sub-1   user-7    -3        50.0\n",
       "38  39  test-1  q-1      sub-1   user-4    -3        50.0\n",
       "39  40  test-1  q-1      sub-1   user-8    -3        50.0"
      ],
      "text/html": "<div>\n<style scoped>\n    .dataframe tbody tr th:only-of-type {\n        vertical-align: middle;\n    }\n\n    .dataframe tbody tr th {\n        vertical-align: top;\n    }\n\n    .dataframe thead th {\n        text-align: right;\n    }\n</style>\n<table border=\"1\" class=\"dataframe\">\n  <thead>\n    <tr style=\"text-align: right;\">\n      <th></th>\n      <th>id</th>\n      <th>test_id</th>\n      <th>q_id</th>\n      <th>subject_id</th>\n      <th>user_id</th>\n      <th>mark</th>\n      <th>percentile</th>\n    </tr>\n  </thead>\n  <tbody>\n    <tr>\n      <th>14</th>\n      <td>15</td>\n      <td>test-1</td>\n      <td>q-1</td>\n      <td>sub-1</td>\n      <td>user-6</td>\n      <td>10</td>\n      <td>100.0</td>\n    </tr>\n    <tr>\n      <th>0</th>\n      <td>1</td>\n      <td>test-1</td>\n      <td>q-1</td>\n      <td>sub-1</td>\n      <td>user-1</td>\n      <td>-3</td>\n      <td>50.0</td>\n    </tr>\n    <tr>\n      <th>1</th>\n      <td>2</td>\n      <td>test-1</td>\n      <td>q-1</td>\n      <td>sub-1</td>\n      <td>user-5</td>\n      <td>-3</td>\n      <td>50.0</td>\n    </tr>\n    <tr>\n      <th>2</th>\n      <td>3</td>\n      <td>test-1</td>\n      <td>q-1</td>\n      <td>sub-1</td>\n      <td>user-9</td>\n      <td>-3</td>\n      <td>50.0</td>\n    </tr>\n    <tr>\n      <th>13</th>\n      <td>14</td>\n      <td>test-1</td>\n      <td>q-1</td>\n      <td>sub-1</td>\n      <td>user-2</td>\n      <td>-3</td>\n      <td>50.0</td>\n    </tr>\n    <tr>\n      <th>15</th>\n      <td>16</td>\n      <td>test-1</td>\n      <td>q-1</td>\n      <td>sub-1</td>\n      <td>user-10</td>\n      <td>-3</td>\n      <td>50.0</td>\n    </tr>\n    <tr>\n      <th>26</th>\n      <td>27</td>\n      <td>test-1</td>\n      <td>q-1</td>\n      <td>sub-1</td>\n      <td>user-3</td>\n      <td>-3</td>\n      <td>50.0</td>\n    </tr>\n    <tr>\n      <th>27</th>\n      <td>28</td>\n      <td>test-1</td>\n      <td>q-1</td>\n      <td>sub-1</td>\n      <td>user-7</td>\n      <td>-3</td>\n      <td>50.0</td>\n    </tr>\n    <tr>\n      <th>38</th>\n      <td>39</td>\n      <td>test-1</td>\n      <td>q-1</td>\n      <td>sub-1</td>\n      <td>user-4</td>\n      <td>-3</td>\n      <td>50.0</td>\n    </tr>\n    <tr>\n      <th>39</th>\n      <td>40</td>\n      <td>test-1</td>\n      <td>q-1</td>\n      <td>sub-1</td>\n      <td>user-8</td>\n      <td>-3</td>\n      <td>50.0</td>\n    </tr>\n  </tbody>\n</table>\n</div>"
     },
     "metadata": {},
     "execution_count": 7
    }
   ],
   "source": [
    "# Group by test_id & subject_id and compute percentile\n",
    "df1['percentile'] = df1.groupby(by=['test_id','subject_id'])['mark'].rank(pct=True) * 100\n",
    "# sort the values by test_id, subject_id & percentile\n",
    "df1.sort_values(by=['test_id', 'subject_id','percentile'], ascending=[True, True, False], inplace=True)\n",
    "\n",
    "df1.head(10)"
   ]
  },
  {
   "source": [
    "## Computing Subject-wise Rank for each student in the Test by the mark they scored"
   ],
   "cell_type": "markdown",
   "metadata": {}
  },
  {
   "cell_type": "code",
   "execution_count": 8,
   "metadata": {},
   "outputs": [
    {
     "output_type": "execute_result",
     "data": {
      "text/plain": [
       "    id test_id q_id subject_id  user_id  mark  percentile  rank\n",
       "14  15  test-1  q-1      sub-1   user-6    10       100.0   1.0\n",
       "0    1  test-1  q-1      sub-1   user-1    -3        50.0   2.0\n",
       "1    2  test-1  q-1      sub-1   user-5    -3        50.0   2.0\n",
       "2    3  test-1  q-1      sub-1   user-9    -3        50.0   2.0\n",
       "13  14  test-1  q-1      sub-1   user-2    -3        50.0   2.0\n",
       "15  16  test-1  q-1      sub-1  user-10    -3        50.0   2.0\n",
       "26  27  test-1  q-1      sub-1   user-3    -3        50.0   2.0\n",
       "27  28  test-1  q-1      sub-1   user-7    -3        50.0   2.0\n",
       "38  39  test-1  q-1      sub-1   user-4    -3        50.0   2.0\n",
       "39  40  test-1  q-1      sub-1   user-8    -3        50.0   2.0"
      ],
      "text/html": "<div>\n<style scoped>\n    .dataframe tbody tr th:only-of-type {\n        vertical-align: middle;\n    }\n\n    .dataframe tbody tr th {\n        vertical-align: top;\n    }\n\n    .dataframe thead th {\n        text-align: right;\n    }\n</style>\n<table border=\"1\" class=\"dataframe\">\n  <thead>\n    <tr style=\"text-align: right;\">\n      <th></th>\n      <th>id</th>\n      <th>test_id</th>\n      <th>q_id</th>\n      <th>subject_id</th>\n      <th>user_id</th>\n      <th>mark</th>\n      <th>percentile</th>\n      <th>rank</th>\n    </tr>\n  </thead>\n  <tbody>\n    <tr>\n      <th>14</th>\n      <td>15</td>\n      <td>test-1</td>\n      <td>q-1</td>\n      <td>sub-1</td>\n      <td>user-6</td>\n      <td>10</td>\n      <td>100.0</td>\n      <td>1.0</td>\n    </tr>\n    <tr>\n      <th>0</th>\n      <td>1</td>\n      <td>test-1</td>\n      <td>q-1</td>\n      <td>sub-1</td>\n      <td>user-1</td>\n      <td>-3</td>\n      <td>50.0</td>\n      <td>2.0</td>\n    </tr>\n    <tr>\n      <th>1</th>\n      <td>2</td>\n      <td>test-1</td>\n      <td>q-1</td>\n      <td>sub-1</td>\n      <td>user-5</td>\n      <td>-3</td>\n      <td>50.0</td>\n      <td>2.0</td>\n    </tr>\n    <tr>\n      <th>2</th>\n      <td>3</td>\n      <td>test-1</td>\n      <td>q-1</td>\n      <td>sub-1</td>\n      <td>user-9</td>\n      <td>-3</td>\n      <td>50.0</td>\n      <td>2.0</td>\n    </tr>\n    <tr>\n      <th>13</th>\n      <td>14</td>\n      <td>test-1</td>\n      <td>q-1</td>\n      <td>sub-1</td>\n      <td>user-2</td>\n      <td>-3</td>\n      <td>50.0</td>\n      <td>2.0</td>\n    </tr>\n    <tr>\n      <th>15</th>\n      <td>16</td>\n      <td>test-1</td>\n      <td>q-1</td>\n      <td>sub-1</td>\n      <td>user-10</td>\n      <td>-3</td>\n      <td>50.0</td>\n      <td>2.0</td>\n    </tr>\n    <tr>\n      <th>26</th>\n      <td>27</td>\n      <td>test-1</td>\n      <td>q-1</td>\n      <td>sub-1</td>\n      <td>user-3</td>\n      <td>-3</td>\n      <td>50.0</td>\n      <td>2.0</td>\n    </tr>\n    <tr>\n      <th>27</th>\n      <td>28</td>\n      <td>test-1</td>\n      <td>q-1</td>\n      <td>sub-1</td>\n      <td>user-7</td>\n      <td>-3</td>\n      <td>50.0</td>\n      <td>2.0</td>\n    </tr>\n    <tr>\n      <th>38</th>\n      <td>39</td>\n      <td>test-1</td>\n      <td>q-1</td>\n      <td>sub-1</td>\n      <td>user-4</td>\n      <td>-3</td>\n      <td>50.0</td>\n      <td>2.0</td>\n    </tr>\n    <tr>\n      <th>39</th>\n      <td>40</td>\n      <td>test-1</td>\n      <td>q-1</td>\n      <td>sub-1</td>\n      <td>user-8</td>\n      <td>-3</td>\n      <td>50.0</td>\n      <td>2.0</td>\n    </tr>\n  </tbody>\n</table>\n</div>"
     },
     "metadata": {},
     "execution_count": 8
    }
   ],
   "source": [
    "# Group by test_id & subject_id and compute rank\n",
    "df1['rank'] = df1.groupby(by=['test_id', 'subject_id'], sort=False)['mark'].rank(ascending=0, method='min')\n",
    "# sort the values by test_id, subject_id & rank\n",
    "df1.sort_values(by=['test_id', 'subject_id', 'rank'], inplace=True)\n",
    "\n",
    "df1.head(10)"
   ]
  }
 ]
}